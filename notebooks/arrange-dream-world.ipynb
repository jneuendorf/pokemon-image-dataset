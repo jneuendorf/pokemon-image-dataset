{
 "cells": [
  {
   "cell_type": "code",
   "execution_count": 3,
   "id": "b05ac709",
   "metadata": {},
   "outputs": [],
   "source": [
    "from cairosvg import svg2png\n",
    "\n",
    "\n",
    "svg_code = \"\"\"\n",
    "    <svg xmlns=\"http://www.w3.org/2000/svg\" width=\"24\" height=\"24\" viewBox=\"0 0 24 24\" fill=\"none\" stroke=\"#000\" stroke-width=\"2\" stroke-linecap=\"round\" stroke-linejoin=\"round\">\n",
    "        <circle cx=\"12\" cy=\"12\" r=\"10\"/>\n",
    "        <line x1=\"12\" y1=\"8\" x2=\"12\" y2=\"12\"/>\n",
    "        <line x1=\"12\" y1=\"16\" x2=\"12\" y2=\"16\"/>\n",
    "    </svg>\n",
    "\"\"\"\n",
    "\n",
    "svg2png(bytestring=svg_code,write_to='output.png')"
   ]
  },
  {
   "cell_type": "code",
   "execution_count": 14,
   "id": "1d0aa67b",
   "metadata": {},
   "outputs": [],
   "source": [
    "from pathlib import Path\n",
    "\n",
    "from cairosvg import svg2png\n",
    "\n",
    "\n",
    "def parse_pokedex_num(filename_no_suffix):\n",
    "    try:\n",
    "        num, *rest = filename_no_suffix.split('-')\n",
    "        return int(num), '-'.join(rest)\n",
    "    except ValueError:\n",
    "        return None, filename_no_suffix\n",
    "\n",
    "\n",
    "for filename in Path('../sprites/dream-world').iterdir():\n",
    "    if not filename.is_file():\n",
    "        continue\n",
    "        \n",
    "    pokedex_num, info = parse_pokedex_num(filename.stem)\n",
    "    pokedex_num_dir = (\n",
    "        'unknown'\n",
    "        if pokedex_num is None\n",
    "        else str(pokedex_num)\n",
    "    )\n",
    "    dest_dir = Path('../data') / pokedex_num_dir\n",
    "    dest_dir.mkdir(parents=True, exist_ok=True)\n",
    "    dest_file_path = (\n",
    "        dest_dir / f'dream-world{\"--\" if info else \"\"}{info}.png'\n",
    "    )\n",
    "    \n",
    "    with open(filename) as f:\n",
    "        svg2png(\n",
    "            file_obj=f,\n",
    "            parent_width=\n",
    "            write_to=str(dest_file_path),\n",
    "        )\n",
    "\n",
    "\n",
    "# with open('../sprites/dream-world/1.svg') as f:\n",
    "# #     svg2png(bytestring=f.read(), write_to='output.png')\n",
    "#     svg2png(file_obj=f, write_to='output2.png')"
   ]
  }
 ],
 "metadata": {
  "kernelspec": {
   "display_name": "pokemon-image-dataset",
   "language": "python",
   "name": "pokemon-image-dataset"
  },
  "language_info": {
   "codemirror_mode": {
    "name": "ipython",
    "version": 3
   },
   "file_extension": ".py",
   "mimetype": "text/x-python",
   "name": "python",
   "nbconvert_exporter": "python",
   "pygments_lexer": "ipython3",
   "version": "3.7.11"
  }
 },
 "nbformat": 4,
 "nbformat_minor": 5
}
